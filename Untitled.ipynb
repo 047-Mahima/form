{
 "cells": [
  {
   "cell_type": "code",
   "execution_count": 11,
   "id": "b3617465",
   "metadata": {},
   "outputs": [
    {
     "name": "stdout",
     "output_type": "stream",
     "text": [
      "^C\n"
     ]
    }
   ],
   "source": [
    "!pip uninstall wtforms"
   ]
  },
  {
   "cell_type": "code",
   "execution_count": 12,
   "id": "5760c122",
   "metadata": {},
   "outputs": [
    {
     "ename": "ImportError",
     "evalue": "cannot import name 'TextField' from 'wtforms' (C:\\Users\\hp\\anaconda3\\lib\\site-packages\\wtforms\\__init__.py)",
     "output_type": "error",
     "traceback": [
      "\u001b[1;31m---------------------------------------------------------------------------\u001b[0m",
      "\u001b[1;31mImportError\u001b[0m                               Traceback (most recent call last)",
      "\u001b[1;32m<ipython-input-12-9353e22c6a87>\u001b[0m in \u001b[0;36m<module>\u001b[1;34m\u001b[0m\n\u001b[0;32m      1\u001b[0m \u001b[1;32mfrom\u001b[0m \u001b[0mflask_wtf\u001b[0m \u001b[1;32mimport\u001b[0m \u001b[0mFlaskForm\u001b[0m\u001b[1;33m\u001b[0m\u001b[1;33m\u001b[0m\u001b[0m\n\u001b[1;32m----> 2\u001b[1;33m \u001b[1;32mfrom\u001b[0m \u001b[0mwtforms\u001b[0m \u001b[1;32mimport\u001b[0m \u001b[0mTextField\u001b[0m\u001b[1;33m,\u001b[0m \u001b[0mTextAreaField\u001b[0m\u001b[1;33m,\u001b[0m \u001b[0mvalidators\u001b[0m\u001b[1;33m,\u001b[0m \u001b[0mValidationError\u001b[0m \u001b[1;33m,\u001b[0m\u001b[0mSubmitField\u001b[0m\u001b[1;33m\u001b[0m\u001b[1;33m\u001b[0m\u001b[0m\n\u001b[0m\u001b[0;32m      3\u001b[0m \u001b[1;33m\u001b[0m\u001b[0m\n\u001b[0;32m      4\u001b[0m \u001b[1;32mclass\u001b[0m \u001b[0mQuery\u001b[0m\u001b[1;33m(\u001b[0m\u001b[0mFlaskForm\u001b[0m\u001b[1;33m)\u001b[0m\u001b[1;33m:\u001b[0m\u001b[1;33m\u001b[0m\u001b[1;33m\u001b[0m\u001b[0m\n\u001b[0;32m      5\u001b[0m     \u001b[0mname\u001b[0m \u001b[1;33m=\u001b[0m \u001b[0mTextField\u001b[0m\u001b[1;33m(\u001b[0m\u001b[1;34m'Name'\u001b[0m  \u001b[1;33m,\u001b[0m \u001b[1;33m[\u001b[0m\u001b[0mvalidators\u001b[0m\u001b[1;33m.\u001b[0m\u001b[0mRequired\u001b[0m\u001b[1;33m(\u001b[0m\u001b[1;34m\"Please enter your name.\"\u001b[0m\u001b[1;33m)\u001b[0m\u001b[1;33m]\u001b[0m\u001b[1;33m)\u001b[0m\u001b[1;33m\u001b[0m\u001b[1;33m\u001b[0m\u001b[0m\n",
      "\u001b[1;31mImportError\u001b[0m: cannot import name 'TextField' from 'wtforms' (C:\\Users\\hp\\anaconda3\\lib\\site-packages\\wtforms\\__init__.py)"
     ]
    }
   ],
   "source": [
    "from flask_wtf import FlaskForm\n",
    "from wtforms import TextField, TextAreaField, validators, ValidationError ,SubmitField\n",
    "\n",
    "class Query(FlaskForm):\n",
    "    name = TextField('Name'  , [validators.Required(\"Please enter your name.\")])\n",
    "    email = TextField('Email' ,  [validators.Required(\"Please enter your email address.\"), validators.Email(\"Please enter your email address.\")])\n",
    "    subject = TextField('Subject' ,  [validators.Required(\"Please enter a subject.\")])\n",
    "    query = TextAreaField('Query' ,  [validators.Required(\"Please enter your Query.\")])\n",
    "    submit = SubmitField('Submit')\n"
   ]
  },
  {
   "cell_type": "code",
   "execution_count": null,
   "id": "934026bb",
   "metadata": {},
   "outputs": [],
   "source": []
  }
 ],
 "metadata": {
  "kernelspec": {
   "display_name": "Python 3",
   "language": "python",
   "name": "python3"
  },
  "language_info": {
   "codemirror_mode": {
    "name": "ipython",
    "version": 3
   },
   "file_extension": ".py",
   "mimetype": "text/x-python",
   "name": "python",
   "nbconvert_exporter": "python",
   "pygments_lexer": "ipython3",
   "version": "3.8.8"
  }
 },
 "nbformat": 4,
 "nbformat_minor": 5
}
